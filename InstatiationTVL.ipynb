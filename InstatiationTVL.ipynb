import pandas as pd
import matplotlib.pyplot as plt
import numpy as np
from scipy.stats import lognorm, poisson

# Provide the full path to the CSV file
file_path = 'TVL_Distribution_Rev06.csv'  # Update with the new file path

df = pd.read_csv(file_path)

# Inspect the DataFrame
print(df.head())

# Extract the relevant column (replace 'TVL' with the actual column name if different)
tvl_column_name = 'TVL'  # Ensure this matches the exact column name in your CSV file
if tvl_column_name in df.columns:
    tvl_values = df[tvl_column_name]
    
    # Fit a log-normal distribution to the data
    shape, loc, scale = lognorm.fit(tvl_values, floc=0)
    
    # Generate three different lambda values for Poisson distribution
    lambdas = [2, 4, 32, 128]  # Different rates of user arrivals

    for lam in lambdas:
        # Simulate user arrivals over 365 days using a Poisson distribution
        daily_user_arrivals = poisson.rvs(mu=lam, size=365)
        total_users = daily_user_arrivals.sum()
        
        # Generate TVL values for the arriving users based on the fitted log-normal distribution
        tvl_simulated = lognorm.rvs(shape, loc=loc, scale=scale, size=total_users)
        
        # Aggregate TVL values per day
        daily_tvl = np.zeros(365)
        user_idx = 0
        for day, num_users in enumerate(daily_user_arrivals):
            daily_tvl[day] = tvl_simulated[user_idx:user_idx + num_users].sum()
            user_idx += num_users
        
        # Calculate cumulative TVL
        cumulative_tvl = np.cumsum(daily_tvl)
        
        # Plot the results with dual y-axes
        fig, ax1 = plt.subplots(figsize=(8, 4))

        color = 'tab:blue'
        ax1.set_xlabel('Day')
        ax1.set_ylabel('Daily TVL', color=color)
        ax1.plot(daily_tvl, label=f'Daily TVL (Lambda = {lam})', color=color)
        ax1.tick_params(axis='y', labelcolor=color)
        ax1.grid(False)
        ax1.get_yaxis().set_major_formatter(
            plt.FuncFormatter(lambda x, loc: "{:,}".format(int(x)))
        )

        ax2 = ax1.twinx()  # instantiate a second axes that shares the same x-axis

        color = 'tab:red'
        ax2.set_ylabel('Cumulative TVL', color=color)
        ax2.plot(cumulative_tvl, label=f'Cumulative TVL (Lambda = {lam}), Total Users: {total_users}', color=color)
        ax2.tick_params(axis='y', labelcolor=color)
        ax2.grid(False)

        fig.tight_layout()  # otherwise the right y-label is slightly clipped
        plt.title(f'Total and Cumulative TVL per Day with User Arrivals (Lambda = {lam})')
        fig.legend(loc="upper left", bbox_to_anchor=(0.1,0.9))
        plt.show()
else:
    print(f"Column '{tvl_column_name}' not found in the DataFrame. Available columns are: {df.columns.tolist()}")
